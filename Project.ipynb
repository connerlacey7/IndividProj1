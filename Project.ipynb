{
 "cells": [
  {
   "cell_type": "code",
   "execution_count": 387,
   "metadata": {},
   "outputs": [],
   "source": [
    "import torch\n",
    "import torch.nn as nn\n",
    "import torch.optim as optim\n",
    "import pandas as pd\n",
    "from sklearn.model_selection import train_test_split\n",
    "from sklearn.preprocessing import StandardScaler\n",
    "import numpy as np"
   ]
  },
  {
   "cell_type": "code",
   "execution_count": 388,
   "metadata": {},
   "outputs": [
    {
     "name": "stderr",
     "output_type": "stream",
     "text": [
      "C:\\Users\\conne\\AppData\\Local\\Temp\\ipykernel_43188\\2723676593.py:24: FutureWarning: Downcasting behavior in `replace` is deprecated and will be removed in a future version. To retain the old behavior, explicitly call `result.infer_objects(copy=False)`. To opt-in to the future behavior, set `pd.set_option('future.no_silent_downcasting', True)`\n",
      "  salary2['Position'] = salary2['Position'].replace(position_mapping)\n"
     ]
    }
   ],
   "source": [
    "import pandas as pd\n",
    "\n",
    "# Load the salary data\n",
    "salary = pd.read_csv('data\\SalaryData.csv')\n",
    "salary['PTS_per_GP'] = salary['PTS'] / salary['GP']\n",
    "salary['AST_TOV_ratio'] = salary['AST'] / salary['TOV']\n",
    "salary['FG_efficiency'] = salary['FG'] / salary['FGA']\n",
    "\n",
    "\n",
    "# Drop unnecessary columns\n",
    "salary2 = salary.drop(['Unnamed: 0', 'Player Name', 'Team'], axis=1)\n",
    "\n",
    "# Define a mapping for the positions\n",
    "position_mapping = {\n",
    "    'PG': 1,\n",
    "    'SG': 2,\n",
    "    'SF': 3,\n",
    "    'PF': 4,\n",
    "    'C': 5\n",
    "}\n",
    "\n",
    "# Apply the position transformation to 'Position' column\n",
    "salary2['Position'] = salary['Position'].apply(lambda x: x.split('-')[0])\n",
    "salary2['Position'] = salary2['Position'].replace(position_mapping)\n",
    "\n",
    "# Remove rows with NaN values\n",
    "salary2_clean = salary2.dropna()\n",
    "\n",
    "# Now proceed with feature and target separation after cleaning\n",
    "features = [col for col in salary2_clean.columns if col != 'Salary']\n",
    "target = 'Salary'\n",
    "\n",
    "# Redefine X and y after cleaning\n",
    "X = salary2_clean[features].values\n",
    "y = salary2_clean[target].values\n"
   ]
  },
  {
   "cell_type": "code",
   "execution_count": 389,
   "metadata": {},
   "outputs": [
    {
     "name": "stdout",
     "output_type": "stream",
     "text": [
      "<class 'pandas.core.frame.DataFrame'>\n",
      "RangeIndex: 467 entries, 0 to 466\n",
      "Data columns (total 52 columns):\n",
      " #   Column         Non-Null Count  Dtype  \n",
      "---  ------         --------------  -----  \n",
      " 0   Salary         467 non-null    int64  \n",
      " 1   Position       467 non-null    int64  \n",
      " 2   Age            467 non-null    int64  \n",
      " 3   GP             467 non-null    int64  \n",
      " 4   GS             467 non-null    int64  \n",
      " 5   MP             467 non-null    float64\n",
      " 6   FG             467 non-null    float64\n",
      " 7   FGA            467 non-null    float64\n",
      " 8   FG%            466 non-null    float64\n",
      " 9   3P             467 non-null    float64\n",
      " 10  3PA            467 non-null    float64\n",
      " 11  3P%            454 non-null    float64\n",
      " 12  2P             467 non-null    float64\n",
      " 13  2PA            467 non-null    float64\n",
      " 14  2P%            463 non-null    float64\n",
      " 15  eFG%           466 non-null    float64\n",
      " 16  FT             467 non-null    float64\n",
      " 17  FTA            467 non-null    float64\n",
      " 18  FT%            444 non-null    float64\n",
      " 19  ORB            467 non-null    float64\n",
      " 20  DRB            467 non-null    float64\n",
      " 21  TRB            467 non-null    float64\n",
      " 22  AST            467 non-null    float64\n",
      " 23  STL            467 non-null    float64\n",
      " 24  BLK            467 non-null    float64\n",
      " 25  TOV            467 non-null    float64\n",
      " 26  PF             467 non-null    float64\n",
      " 27  PTS            467 non-null    float64\n",
      " 28  Total Minutes  467 non-null    int64  \n",
      " 29  PER            467 non-null    float64\n",
      " 30  TS%            466 non-null    float64\n",
      " 31  3PAr           466 non-null    float64\n",
      " 32  FTr            466 non-null    float64\n",
      " 33  ORB%           467 non-null    float64\n",
      " 34  DRB%           467 non-null    float64\n",
      " 35  TRB%           467 non-null    float64\n",
      " 36  AST%           467 non-null    float64\n",
      " 37  STL%           467 non-null    float64\n",
      " 38  BLK%           467 non-null    float64\n",
      " 39  TOV%           467 non-null    float64\n",
      " 40  USG%           467 non-null    float64\n",
      " 41  OWS            467 non-null    float64\n",
      " 42  DWS            467 non-null    float64\n",
      " 43  WS             467 non-null    float64\n",
      " 44  WS/48          467 non-null    float64\n",
      " 45  OBPM           467 non-null    float64\n",
      " 46  DBPM           467 non-null    float64\n",
      " 47  BPM            467 non-null    float64\n",
      " 48  VORP           467 non-null    float64\n",
      " 49  PTS_per_GP     467 non-null    float64\n",
      " 50  AST_TOV_ratio  458 non-null    float64\n",
      " 51  FG_efficiency  466 non-null    float64\n",
      "dtypes: float64(46), int64(6)\n",
      "memory usage: 189.8 KB\n"
     ]
    }
   ],
   "source": [
    "salary2.info()"
   ]
  },
  {
   "cell_type": "code",
   "execution_count": 390,
   "metadata": {},
   "outputs": [],
   "source": [
    "import numpy as np\n",
    "from sklearn.preprocessing import StandardScaler\n",
    "from sklearn.model_selection import train_test_split\n",
    "import torch\n",
    "\n",
    "# Split the data into training and test sets\n",
    "X_train, X_test, y_train, y_test = train_test_split(X, y, test_size=0.2, random_state=42)\n",
    "\n",
    "# Check for rows with Inf in X_train and remove them from both X_train and y_train\n",
    "inf_mask_train = np.isinf(X_train).any(axis=1)\n",
    "X_train = X_train[~inf_mask_train]\n",
    "y_train = y_train[~inf_mask_train]\n",
    "\n",
    "# Check for rows with Inf in X_test and remove them from both X_test and y_test\n",
    "inf_mask_test = np.isinf(X_test).any(axis=1)\n",
    "X_test = X_test[~inf_mask_test]\n",
    "y_test = y_test[~inf_mask_test]\n",
    "\n",
    "\n",
    "# Standardize the features (important for neural networks)\n",
    "scaler_X = StandardScaler()\n",
    "X_train = scaler_X.fit_transform(X_train)\n",
    "X_test = scaler_X.transform(X_test)\n",
    "\n",
    "# Standardize the target (salary) values\n",
    "scaler_y = StandardScaler()\n",
    "y_train = scaler_y.fit_transform(y_train.reshape(-1, 1))  # Reshape to 2D\n",
    "y_test = scaler_y.transform(y_test.reshape(-1, 1))\n",
    "\n",
    "# Convert the data to PyTorch tensors\n",
    "X_train_tensor = torch.tensor(X_train, dtype=torch.float32)\n",
    "X_test_tensor = torch.tensor(X_test, dtype=torch.float32)\n",
    "y_train_tensor = torch.tensor(y_train, dtype=torch.float32)  # Already 2D\n",
    "y_test_tensor = torch.tensor(y_test, dtype=torch.float32)\n"
   ]
  },
  {
   "cell_type": "code",
   "execution_count": 391,
   "metadata": {},
   "outputs": [
    {
     "name": "stdout",
     "output_type": "stream",
     "text": [
      "Any NaN in X_train: False\n",
      "Any NaN in X_test: False\n",
      "Any Inf in X_train: False\n",
      "Any Inf in X_test: False\n"
     ]
    }
   ],
   "source": [
    "import numpy as np\n",
    "\n",
    "# Check for NaN values\n",
    "print(f\"Any NaN in X_train: {np.isnan(X_train).any()}\")\n",
    "print(f\"Any NaN in X_test: {np.isnan(X_test).any()}\")\n",
    "\n",
    "# Check for Inf values\n",
    "print(f\"Any Inf in X_train: {np.isinf(X_train).any()}\")\n",
    "print(f\"Any Inf in X_test: {np.isinf(X_test).any()}\")\n"
   ]
  },
  {
   "cell_type": "code",
   "execution_count": 392,
   "metadata": {},
   "outputs": [],
   "source": [
    "class SalaryPredictor(nn.Module):\n",
    "    def __init__(self, input_size, hidden_size, output_size,dropout_prob = 0.5):\n",
    "        super(SalaryPredictor, self).__init__()\n",
    "        self.fc1 = nn.Linear(input_size, hidden_size)\n",
    "        self.relu = nn.ReLU()\n",
    "        self.dropout = nn.Dropout(p=dropout_prob)\n",
    "        self.relu = nn.ReLU()\n",
    "        self.fc2 = nn.Linear(hidden_size, hidden_size)\n",
    "        self.fc3 = nn.Linear(hidden_size, output_size)\n",
    "\n",
    "    def forward(self, x):\n",
    "        x = self.fc1(x)\n",
    "        x = self.relu(x)\n",
    "        x = self.fc2(x)\n",
    "        x = self.relu(x)\n",
    "        x = self.fc3(x)\n",
    "        return x"
   ]
  },
  {
   "cell_type": "code",
   "execution_count": 393,
   "metadata": {},
   "outputs": [],
   "source": [
    "input_size = X_train.shape[1]  # Number of features\n",
    "hidden_size = 64  # Hidden layer size (can be adjusted)\n",
    "output_size = 1   # Single output (salary)\n",
    "\n",
    "model = SalaryPredictor(input_size, hidden_size, output_size)"
   ]
  },
  {
   "cell_type": "code",
   "execution_count": 394,
   "metadata": {},
   "outputs": [],
   "source": [
    "criterion = nn.MSELoss()  # For regression tasks\n",
    "optimizer = optim.Adam(model.parameters(), lr=0.0001)"
   ]
  },
  {
   "cell_type": "code",
   "execution_count": 395,
   "metadata": {},
   "outputs": [
    {
     "name": "stdout",
     "output_type": "stream",
     "text": [
      "Epoch [100/1000], Loss: 0.5172\n",
      "Epoch [200/1000], Loss: 0.3673\n",
      "Epoch [300/1000], Loss: 0.2859\n",
      "Epoch [400/1000], Loss: 0.2163\n",
      "Epoch [500/1000], Loss: 0.1653\n",
      "Epoch [600/1000], Loss: 0.1315\n",
      "Epoch [700/1000], Loss: 0.1070\n",
      "Epoch [800/1000], Loss: 0.0891\n",
      "Epoch [900/1000], Loss: 0.0737\n",
      "Epoch [1000/1000], Loss: 0.0607\n"
     ]
    }
   ],
   "source": [
    "num_epochs = 1000\n",
    "for epoch in range(num_epochs):\n",
    "    # Forward pass: Compute predicted y by passing X to the model\n",
    "    predictions = model(X_train_tensor)\n",
    "\n",
    "    # Compute the loss\n",
    "    loss = criterion(predictions, y_train_tensor)\n",
    "\n",
    "    # Backpropagation and optimization\n",
    "    optimizer.zero_grad()\n",
    "    loss.backward()\n",
    "    optimizer.step()\n",
    "\n",
    "    if (epoch + 1) % 100 == 0:\n",
    "        print(f'Epoch [{epoch+1}/{num_epochs}], Loss: {loss.item():.4f}')"
   ]
  },
  {
   "cell_type": "code",
   "execution_count": 396,
   "metadata": {},
   "outputs": [
    {
     "name": "stdout",
     "output_type": "stream",
     "text": [
      "Shape of X_train: (342, 51)\n",
      "Shape of y_train: (342, 1)\n"
     ]
    }
   ],
   "source": [
    "print(f\"Shape of X_train: {X_train.shape}\")\n",
    "print(f\"Shape of y_train: {y_train.shape}\")\n"
   ]
  },
  {
   "cell_type": "code",
   "execution_count": 397,
   "metadata": {},
   "outputs": [
    {
     "name": "stdout",
     "output_type": "stream",
     "text": [
      "Test Loss: 0.4781\n"
     ]
    }
   ],
   "source": [
    "model.eval()  # Switch to evaluation mode\n",
    "with torch.no_grad():\n",
    "    test_predictions = model(X_test_tensor)\n",
    "    test_loss = criterion(test_predictions, y_test_tensor)\n",
    "    print(f'Test Loss: {test_loss.item():.4f}')"
   ]
  },
  {
   "cell_type": "code",
   "execution_count": 398,
   "metadata": {},
   "outputs": [
    {
     "name": "stdout",
     "output_type": "stream",
     "text": [
      "[[  579986.06]\n",
      " [ 3721718.5 ]\n",
      " [ 2090601.  ]\n",
      " [18237008.  ]\n",
      " [ 2937529.  ]]\n",
      "[[  102910.055]\n",
      " [16902000.   ]\n",
      " [ 5739840.   ]\n",
      " [31650600.   ]\n",
      " [  508891.06 ]]\n"
     ]
    }
   ],
   "source": [
    "# Inverse transform the predictions to get the actual salary values\n",
    "test_predictions_scaled = model(X_test_tensor)\n",
    "test_predictions = scaler_y.inverse_transform(test_predictions_scaled.detach().numpy())\n",
    "\n",
    "# Also, inverse transform the y_test_scaled to compare the true salary values\n",
    "y_test_original = scaler_y.inverse_transform(y_test_tensor.detach().numpy())\n",
    "\n",
    "# Compare predictions and actual salaries\n",
    "print(test_predictions[:5])  # First 5 predicted salaries\n",
    "print(y_test_original[:5])   # First 5 actual salaries\n"
   ]
  },
  {
   "cell_type": "code",
   "execution_count": 399,
   "metadata": {},
   "outputs": [
    {
     "name": "stdout",
     "output_type": "stream",
     "text": [
      "Mean Absolute Error (MAE): 4788815.50\n",
      "R² Score: 0.62\n"
     ]
    }
   ],
   "source": [
    "from sklearn.metrics import mean_absolute_error, r2_score\n",
    "\n",
    "# Calculate MAE on the original scale\n",
    "mae = mean_absolute_error(y_test_original, test_predictions)\n",
    "print(f'Mean Absolute Error (MAE): {mae:.2f}')\n",
    "\n",
    "# Calculate R² score on the original scale\n",
    "r2 = r2_score(y_test_original, test_predictions)\n",
    "print(f'R² Score: {r2:.2f}')\n"
   ]
  },
  {
   "cell_type": "code",
   "execution_count": 400,
   "metadata": {},
   "outputs": [
    {
     "data": {
      "image/png": "[encoded data removed]",
      "text/plain": [
       "<Figure size 1000x600 with 1 Axes>"
      ]
     },
     "metadata": {},
     "output_type": "display_data"
    }
   ],
   "source": [
    "import matplotlib.pyplot as plt\n",
    "\n",
    "# Assuming `test_predictions` and `y_test_original` are already defined from the previous step.\n",
    "# Create the predicted vs actual salary graph\n",
    "\n",
    "# Plot predicted vs actual\n",
    "plt.figure(figsize=(10, 6))\n",
    "plt.scatter(y_test_original, test_predictions, color='blue', label='Predictions', alpha=0.6)\n",
    "plt.plot([min(y_test_original), max(y_test_original)], [min(y_test_original), max(y_test_original)], color='red', label='Perfect Fit')\n",
    "plt.xlabel('Actual Salary')\n",
    "plt.ylabel('Predicted Salary')\n",
    "plt.title('Predicted vs Actual Salary')\n",
    "plt.legend()\n",
    "plt.grid(True)\n",
    "plt.show()\n"
   ]
  },
  {
   "cell_type": "code",
   "execution_count": 401,
   "metadata": {},
   "outputs": [],
   "source": [
    "import numpy as np\n",
    "\n",
    "# Calculate z-scores for each feature in X_train\n",
    "from scipy import stats\n",
    "z_scores = np.abs(stats.zscore(X_train))\n",
    "\n",
    "# Define a threshold for the z-score\n",
    "threshold = 3  # Points with a z-score above 3 are considered outliers\n",
    "\n",
    "# Identify outliers in X_train\n",
    "outliers = np.where(z_scores > threshold)\n",
    "\n",
    "# Remove the outliers\n",
    "X_train = X_train[(z_scores < threshold).all(axis=1)]\n",
    "y_train = y_train[(z_scores < threshold).all(axis=1)]\n"
   ]
  },
  {
   "cell_type": "code",
   "execution_count": 403,
   "metadata": {},
   "outputs": [],
   "source": [
    "# Save the model weights after training\n",
    "torch.save(model.state_dict(), 'model_weights.pth')\n"
   ]
  }
 ],
 "metadata": {
  "kernelspec": {
   "display_name": "Python 3",
   "language": "python",
   "name": "python3"
  },
  "language_info": {
   "codemirror_mode": {
    "name": "ipython",
    "version": 3
   },
   "file_extension": ".py",
   "mimetype": "text/x-python",
   "name": "python",
   "nbconvert_exporter": "python",
   "pygments_lexer": "ipython3",
   "version": "3.11.8"
  }
 },
 "nbformat": 4,
 "nbformat_minor": 2
}
